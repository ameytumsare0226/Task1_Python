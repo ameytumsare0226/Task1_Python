{
 "cells": [
  {
   "cell_type": "markdown",
   "id": "ba0d5d79-4a47-449b-94fb-b02a417352af",
   "metadata": {},
   "source": [
    "# Task1\n"
   ]
  },
  {
   "cell_type": "markdown",
   "id": "8217a273-875a-42ff-8723-60e998189581",
   "metadata": {},
   "source": [
    "# Bold Text"
   ]
  },
  {
   "cell_type": "markdown",
   "id": "2a6058c4-422c-4b9c-a390-f6d145544c3a",
   "metadata": {},
   "source": [
    "**This is bold text**"
   ]
  },
  {
   "cell_type": "markdown",
   "id": "be06f811-75e2-40c8-be80-fe50a5b5ea6f",
   "metadata": {},
   "source": [
    "#  Italic Text"
   ]
  },
  {
   "cell_type": "markdown",
   "id": "1d898e7e-1779-4f49-a112-99b93a83c7aa",
   "metadata": {},
   "source": [
    "*This is italic text*\n"
   ]
  },
  {
   "cell_type": "markdown",
   "id": "01481153-0f7f-4f52-b148-c74d981c94ae",
   "metadata": {
    "jp-MarkdownHeadingCollapsed": true
   },
   "source": [
    "# List\n",
    "\n",
    "- Item 1\n",
    "- Item 2\n",
    "  - Subitem 2.1"
   ]
  },
  {
   "cell_type": "markdown",
   "id": "7a852631-16ef-4b8c-bfeb-3a9463ba600f",
   "metadata": {},
   "source": [
    "# Ordered List\n",
    "1. First item\r\n",
    "2. Second item\r\n",
    "   1. Subitem 2.1\r\n"
   ]
  },
  {
   "cell_type": "markdown",
   "id": "465c3d72-b6f4-452e-ac43-305dd83d139f",
   "metadata": {},
   "source": [
    "# Blockquotes\n",
    "\n",
    "> This is a blockquote.\r\n"
   ]
  },
  {
   "cell_type": "markdown",
   "id": "ebd9fdba-0e31-4c12-9648-8eb7bce70059",
   "metadata": {},
   "source": [
    "# Code Blocks\n",
    "\n",
    "\n",
    "This is `inline code`.\r\n"
   ]
  },
  {
   "cell_type": "markdown",
   "id": "1ae19fda-7868-4711-a174-3bbfb1d95b9d",
   "metadata": {},
   "source": [
    "# Horizontal Line\n",
    "\n",
    "------------------------------------------------------------------------------------------\n"
   ]
  },
  {
   "cell_type": "markdown",
   "id": "35ed41cb-68e7-4b05-aaa6-5483ae967380",
   "metadata": {},
   "source": [
    "# Links\n",
    "\n",
    "[OpenAI](https://www.openai.com)\n",
    "\n",
    "[Apple](https://www.apple.com)"
   ]
  },
  {
   "cell_type": "markdown",
   "id": "6c0b981c-58fb-414f-8f3d-b076cdf0f362",
   "metadata": {},
   "source": [
    "# Tables\n",
    "\n",
    "| Header 1 | Header 2 |\n",
    "|----------|----------|\n",
    "| Row 1    | Data 1   |\n",
    "| Row 2    | Data 2   |\n"
   ]
  },
  {
   "cell_type": "markdown",
   "id": "ea7546d8-5461-4012-a444-ec210540186d",
   "metadata": {},
   "source": [
    "# Math Expressions\n",
    "\n",
    "Inline: \\( E = mc^2 \\)\n",
    "\n",
    "Block:\n",
    "$$\n",
    "E = mc^2\n",
    "$$\n"
   ]
  },
  {
   "cell_type": "markdown",
   "id": "c6d5d086-9dfd-405d-a26b-e1a4f11e3e3b",
   "metadata": {},
   "source": [
    "# Footnotes\n",
    "\n",
    "This is a sentence with a footnote[^1].\n",
    "\n",
    "[^1]: This is the footnote text.\n"
   ]
  },
  {
   "cell_type": "markdown",
   "id": "dc838846-d0df-4846-9918-b5333b0caa6d",
   "metadata": {},
   "source": [
    "# Task Lists\n",
    "\n",
    "- [x] Task 1\n",
    "- [ ] Task 2\n"
   ]
  },
  {
   "cell_type": "markdown",
   "id": "1e928a9f-542c-43c0-b374-76670101a1f6",
   "metadata": {},
   "source": [
    "# Strikethrough\n",
    "\n",
    "~~This text is strikethrough~~\n"
   ]
  },
  {
   "cell_type": "markdown",
   "id": "807e0df3-4d56-48fe-9503-3389290bf51a",
   "metadata": {},
   "source": [
    "# Highlighting Text\n",
    "\n",
    "`Baigan`\n"
   ]
  },
  {
   "cell_type": "markdown",
   "id": "9f769854-69f1-446f-9edf-392154ab1813",
   "metadata": {},
   "source": [
    "# Audio Files\n",
    "\n",
    "<audio controls>\r\n",
    "  <source src=\"audio_file.mp3\" type=\"audio/mpeg\">\r\n",
    "  Your browser does not support the audio tag.\r\n",
    "</audio>\r\n",
    "\r\n"
   ]
  },
  {
   "cell_type": "markdown",
   "id": "0bd3c20b-6b05-4ec6-8156-c1f11cff7e6c",
   "metadata": {},
   "source": [
    "# Citation\n",
    "\n",
    "According to Smith (2020), this method is effective.\r\n"
   ]
  },
  {
   "cell_type": "markdown",
   "id": "32ea7d02-6232-434b-b9b9-c9f313689655",
   "metadata": {},
   "source": [
    "# Acknowledgments\n",
    "\n",
    "## Acknowledgments\n",
    "- Thanks to [Author Name](http://example.com) for their contribution.\n"
   ]
  },
  {
   "cell_type": "markdown",
   "id": "c8154eb1-eb7c-4167-9fbc-4921ae11ef1e",
   "metadata": {},
   "source": [
    "# Image Links\n",
    "\n",
    "[![Alt text](https://images.app.goo.gl/h7g5sUdJxM2De8zW6)]\n"
   ]
  },
  {
   "cell_type": "markdown",
   "id": "638a19a0-9a18-43fb-bbbd-8b39b2879965",
   "metadata": {},
   "source": [
    "# Subscript and Superscript\n",
    "\n",
    "H~2~O\n"
   ]
  }
 ],
 "metadata": {
  "kernelspec": {
   "display_name": "Python 3 (ipykernel)",
   "language": "python",
   "name": "python3"
  },
  "language_info": {
   "codemirror_mode": {
    "name": "ipython",
    "version": 3
   },
   "file_extension": ".py",
   "mimetype": "text/x-python",
   "name": "python",
   "nbconvert_exporter": "python",
   "pygments_lexer": "ipython3",
   "version": "3.12.4"
  }
 },
 "nbformat": 4,
 "nbformat_minor": 5
}
